{
  "nbformat": 4,
  "nbformat_minor": 0,
  "metadata": {
    "colab": {
      "name": "TUGAS2_AI_1301160774.ipynb",
      "version": "0.3.2",
      "provenance": [],
      "collapsed_sections": [
        "Pzg5zy_8ZUj7",
        "iJ1YYthEZURu",
        "-dc8uydjZTQ_",
        "7bKPfIFhZ6yN",
        "jJ4VFS0gZ6hD",
        "vwoWho1jZ6O2",
        "ChQUEXzOZJpB"
      ]
    },
    "kernelspec": {
      "name": "python3",
      "display_name": "Python 3"
    }
  },
  "cells": [
    {
      "metadata": {
        "id": "9moMjkO9ZU46",
        "colab_type": "text"
      },
      "cell_type": "markdown",
      "source": [
        "# **TUGAS AI 2 KNN**"
      ]
    },
    {
      "metadata": {
        "id": "3aEhcG_1U-uM",
        "colab_type": "text"
      },
      "cell_type": "markdown",
      "source": [
        "Algoritma K-Nearest Neighbor (K-NN) adalah sebuah metode klasifikasi terhadap sekumpulan data berdasarkan pembelajaran  data yang sudah terklasifikasikan sebelumya. Termasuk dalam supervised learning, dimana hasil query instance yang baru diklasifikasikan berdasarkan mayoritas kedekatan jarak dari kategori yang ada dalam K-NN."
      ]
    },
    {
      "metadata": {
        "id": "Pzg5zy_8ZUj7",
        "colab_type": "text"
      },
      "cell_type": "markdown",
      "source": [
        "## **Import Library**"
      ]
    },
    {
      "metadata": {
        "id": "ixmkC873ZUa0",
        "colab_type": "code",
        "colab": {}
      },
      "cell_type": "code",
      "source": [
        "import matplotlib.pyplot as plt\n",
        "import pandas as pd\n",
        "import operator\n",
        "import math\n",
        "import csv"
      ],
      "execution_count": 0,
      "outputs": []
    },
    {
      "metadata": {
        "id": "iJ1YYthEZURu",
        "colab_type": "text"
      },
      "cell_type": "markdown",
      "source": [
        "## **Data Train**"
      ]
    },
    {
      "metadata": {
        "id": "ckwoFcp2ZUA4",
        "colab_type": "code",
        "outputId": "27b3aecc-9201-44cd-efdc-59631d439135",
        "colab": {
          "base_uri": "https://localhost:8080/",
          "height": 235
        }
      },
      "cell_type": "code",
      "source": [
        "dataTrain = pd.read_csv('https://drive.google.com/uc?export=download&id=1aucpqYQ_xUpx-Txma50A-CQ6PAPYQVcK')\n",
        "dataTrain.head(6)"
      ],
      "execution_count": 0,
      "outputs": [
        {
          "output_type": "execute_result",
          "data": {
            "text/html": [
              "<div>\n",
              "<style scoped>\n",
              "    .dataframe tbody tr th:only-of-type {\n",
              "        vertical-align: middle;\n",
              "    }\n",
              "\n",
              "    .dataframe tbody tr th {\n",
              "        vertical-align: top;\n",
              "    }\n",
              "\n",
              "    .dataframe thead th {\n",
              "        text-align: right;\n",
              "    }\n",
              "</style>\n",
              "<table border=\"1\" class=\"dataframe\">\n",
              "  <thead>\n",
              "    <tr style=\"text-align: right;\">\n",
              "      <th></th>\n",
              "      <th>atribut 1</th>\n",
              "      <th>atribut 2</th>\n",
              "      <th>atribut 3</th>\n",
              "      <th>atribut 4</th>\n",
              "      <th>kelas</th>\n",
              "    </tr>\n",
              "  </thead>\n",
              "  <tbody>\n",
              "    <tr>\n",
              "      <th>0</th>\n",
              "      <td>17.4</td>\n",
              "      <td>61.250</td>\n",
              "      <td>10.4</td>\n",
              "      <td>21.0</td>\n",
              "      <td>1</td>\n",
              "    </tr>\n",
              "    <tr>\n",
              "      <th>1</th>\n",
              "      <td>16.2</td>\n",
              "      <td>34.375</td>\n",
              "      <td>14.8</td>\n",
              "      <td>15.6</td>\n",
              "      <td>1</td>\n",
              "    </tr>\n",
              "    <tr>\n",
              "      <th>2</th>\n",
              "      <td>11.4</td>\n",
              "      <td>46.875</td>\n",
              "      <td>10.8</td>\n",
              "      <td>9.9</td>\n",
              "      <td>0</td>\n",
              "    </tr>\n",
              "    <tr>\n",
              "      <th>3</th>\n",
              "      <td>12.6</td>\n",
              "      <td>76.250</td>\n",
              "      <td>18.0</td>\n",
              "      <td>25.5</td>\n",
              "      <td>1</td>\n",
              "    </tr>\n",
              "    <tr>\n",
              "      <th>4</th>\n",
              "      <td>16.2</td>\n",
              "      <td>55.000</td>\n",
              "      <td>9.8</td>\n",
              "      <td>15.9</td>\n",
              "      <td>0</td>\n",
              "    </tr>\n",
              "    <tr>\n",
              "      <th>5</th>\n",
              "      <td>7.8</td>\n",
              "      <td>41.250</td>\n",
              "      <td>16.0</td>\n",
              "      <td>9.0</td>\n",
              "      <td>0</td>\n",
              "    </tr>\n",
              "  </tbody>\n",
              "</table>\n",
              "</div>"
            ],
            "text/plain": [
              "   atribut 1  atribut 2  atribut 3  atribut 4  kelas\n",
              "0       17.4     61.250       10.4       21.0      1\n",
              "1       16.2     34.375       14.8       15.6      1\n",
              "2       11.4     46.875       10.8        9.9      0\n",
              "3       12.6     76.250       18.0       25.5      1\n",
              "4       16.2     55.000        9.8       15.9      0\n",
              "5        7.8     41.250       16.0        9.0      0"
            ]
          },
          "metadata": {
            "tags": []
          },
          "execution_count": 2
        }
      ]
    },
    {
      "metadata": {
        "id": "54g4gX6xWLQ-",
        "colab_type": "code",
        "colab": {}
      },
      "cell_type": "code",
      "source": [
        "def datTrain(dataTrain):\n",
        "  attribut_temp = []        \n",
        "  class_temp = []\n",
        "  for index, row in dataTrain.iterrows():\n",
        "      attribut_temp.append([row['atribut 1'], row['atribut 2'], row['atribut 3'], row['atribut 4']])\n",
        "      class_temp.append(row['kelas'])\n",
        "  \n",
        "  return [attribut_temp , class_temp]"
      ],
      "execution_count": 0,
      "outputs": []
    },
    {
      "metadata": {
        "id": "-dc8uydjZTQ_",
        "colab_type": "text"
      },
      "cell_type": "markdown",
      "source": [
        "## **Data Test**"
      ]
    },
    {
      "metadata": {
        "id": "MAF7f4IDZvz4",
        "colab_type": "code",
        "outputId": "71917732-0d41-4cc0-adeb-2431c7fa8f8e",
        "colab": {
          "base_uri": "https://localhost:8080/",
          "height": 235
        }
      },
      "cell_type": "code",
      "source": [
        "dataTest = pd.read_csv('https://drive.google.com/uc?export=download&id=1dUYH43dX6nvvApXKRT_hXESv1ADFJJc7')\n",
        "dataTest.head(6)"
      ],
      "execution_count": 0,
      "outputs": [
        {
          "output_type": "execute_result",
          "data": {
            "text/html": [
              "<div>\n",
              "<style scoped>\n",
              "    .dataframe tbody tr th:only-of-type {\n",
              "        vertical-align: middle;\n",
              "    }\n",
              "\n",
              "    .dataframe tbody tr th {\n",
              "        vertical-align: top;\n",
              "    }\n",
              "\n",
              "    .dataframe thead th {\n",
              "        text-align: right;\n",
              "    }\n",
              "</style>\n",
              "<table border=\"1\" class=\"dataframe\">\n",
              "  <thead>\n",
              "    <tr style=\"text-align: right;\">\n",
              "      <th></th>\n",
              "      <th>atribut 1</th>\n",
              "      <th>atribut 2</th>\n",
              "      <th>atribut 3</th>\n",
              "      <th>atribut 4</th>\n",
              "      <th>kelas</th>\n",
              "    </tr>\n",
              "  </thead>\n",
              "  <tbody>\n",
              "    <tr>\n",
              "      <th>0</th>\n",
              "      <td>8.4</td>\n",
              "      <td>54.375</td>\n",
              "      <td>13.6</td>\n",
              "      <td>13.5</td>\n",
              "      <td>NaN</td>\n",
              "    </tr>\n",
              "    <tr>\n",
              "      <th>1</th>\n",
              "      <td>10.8</td>\n",
              "      <td>67.500</td>\n",
              "      <td>14.4</td>\n",
              "      <td>22.2</td>\n",
              "      <td>NaN</td>\n",
              "    </tr>\n",
              "    <tr>\n",
              "      <th>2</th>\n",
              "      <td>21.6</td>\n",
              "      <td>62.500</td>\n",
              "      <td>13.6</td>\n",
              "      <td>20.7</td>\n",
              "      <td>NaN</td>\n",
              "    </tr>\n",
              "    <tr>\n",
              "      <th>3</th>\n",
              "      <td>10.8</td>\n",
              "      <td>46.875</td>\n",
              "      <td>9.0</td>\n",
              "      <td>16.8</td>\n",
              "      <td>NaN</td>\n",
              "    </tr>\n",
              "    <tr>\n",
              "      <th>4</th>\n",
              "      <td>10.8</td>\n",
              "      <td>58.750</td>\n",
              "      <td>14.2</td>\n",
              "      <td>13.5</td>\n",
              "      <td>NaN</td>\n",
              "    </tr>\n",
              "    <tr>\n",
              "      <th>5</th>\n",
              "      <td>21.6</td>\n",
              "      <td>61.875</td>\n",
              "      <td>11.2</td>\n",
              "      <td>18.3</td>\n",
              "      <td>NaN</td>\n",
              "    </tr>\n",
              "  </tbody>\n",
              "</table>\n",
              "</div>"
            ],
            "text/plain": [
              "   atribut 1  atribut 2  atribut 3  atribut 4  kelas\n",
              "0        8.4     54.375       13.6       13.5    NaN\n",
              "1       10.8     67.500       14.4       22.2    NaN\n",
              "2       21.6     62.500       13.6       20.7    NaN\n",
              "3       10.8     46.875        9.0       16.8    NaN\n",
              "4       10.8     58.750       14.2       13.5    NaN\n",
              "5       21.6     61.875       11.2       18.3    NaN"
            ]
          },
          "metadata": {
            "tags": []
          },
          "execution_count": 4
        }
      ]
    },
    {
      "metadata": {
        "id": "xI83a-eIWzeZ",
        "colab_type": "code",
        "colab": {}
      },
      "cell_type": "code",
      "source": [
        "def datTest(dataTest):\n",
        "  attribut_temp = []        \n",
        "  class_temp = []\n",
        "  for index, row in dataTest.iterrows():\n",
        "      attribut_temp.append([row['atribut 1'], row['atribut 2'], row['atribut 3'], row['atribut 4']])\n",
        "      class_temp.append(row['kelas'])\n",
        "  return [attribut_temp, class_temp]"
      ],
      "execution_count": 0,
      "outputs": []
    },
    {
      "metadata": {
        "id": "tg1tdw6zZ7wx",
        "colab_type": "text"
      },
      "cell_type": "markdown",
      "source": [
        "## **Mencari Nilai K Terbaik**"
      ]
    },
    {
      "metadata": {
        "id": "dAJHg6zyZ66q",
        "colab_type": "code",
        "colab": {}
      },
      "cell_type": "code",
      "source": [
        "def searchK(dataTrain):\n",
        "    k_temp = []\n",
        "    Akurasi_temp = []\n",
        "    Prediksi_temp = []\n",
        "    #k dimulai dari 3, 5, 7\n",
        "    #range dari k sesuai spesifikasi perangkat\n",
        "    for K in range(1,10):\n",
        "        for i in range(len(dataTrain[0])):\n",
        "            test_data = dataTrain[0][i]\n",
        "  \n",
        "            #menampung function knn\n",
        "            nearestNeighbor = knn(dataTrain, test_data, K)\n",
        "            \n",
        "            #klasifikasi kelas\n",
        "            pred = classClasific(nearestNeighbor)\n",
        "            Prediksi_temp.append(pred) #kelas K\n",
        "        \n",
        "        #menghitung akurasinya    \n",
        "        a = accuracyChecking(dataTrain[1], Prediksi_temp)\n",
        "        Akurasi_temp.append(a)    \n",
        "        k_temp.append(K)\n",
        "        \n",
        "        #kelas dibuat kosong lagi\n",
        "        Prediksi_temp = []\n",
        "        \n",
        "    #akurasi tertinggi ditampung di variabel index    \n",
        "    index = Akurasi_temp.index(max(Akurasi_temp))\n",
        "    print('K terbaik =',k_temp[index],'Dengan Akurasi =',Akurasi_temp[index],'%')\n",
        "    return k_temp[index]"
      ],
      "execution_count": 0,
      "outputs": []
    },
    {
      "metadata": {
        "id": "7bKPfIFhZ6yN",
        "colab_type": "text"
      },
      "cell_type": "markdown",
      "source": [
        "## **Euclidiean Distance Function**"
      ]
    },
    {
      "metadata": {
        "id": "xOJW6BK-Z6pP",
        "colab_type": "code",
        "colab": {}
      },
      "cell_type": "code",
      "source": [
        "def euclidiean(a, b, length):\n",
        "    dist = 0\n",
        "    for i in range(length):\n",
        "        dist += pow((float(a[i])-float(b[i])),2 )\n",
        "    return math.sqrt(dist)"
      ],
      "execution_count": 0,
      "outputs": []
    },
    {
      "metadata": {
        "id": "jJ4VFS0gZ6hD",
        "colab_type": "text"
      },
      "cell_type": "markdown",
      "source": [
        "## **KNN**"
      ]
    },
    {
      "metadata": {
        "id": "3GDY7nuxZ6Xt",
        "colab_type": "code",
        "colab": {}
      },
      "cell_type": "code",
      "source": [
        "def knn(dataTrain, test_data, K):\n",
        "    distance_temp = []\n",
        "    for i in range(len(dataTrain[0])):\n",
        "        eu_temp = euclidiean(dataTrain[0][i], test_data, len(dataTrain[0][i]))\n",
        "        distance_temp.append((dataTrain[0][i], eu_temp, dataTrain[1][i]))\n",
        "    \n",
        "    distance_temp.sort(key=operator.itemgetter(1))\n",
        "    \n",
        "    neighbors = []\n",
        "    for i in range(K):\n",
        "        neighbors.append((distance_temp[i][1], distance_temp[i][2]))\n",
        "    return neighbors  "
      ],
      "execution_count": 0,
      "outputs": []
    },
    {
      "metadata": {
        "id": "vwoWho1jZ6O2",
        "colab_type": "text"
      },
      "cell_type": "markdown",
      "source": [
        "## **Klasifikasi Kelas**"
      ]
    },
    {
      "metadata": {
        "id": "lrwqltY6Z6Em",
        "colab_type": "code",
        "colab": {}
      },
      "cell_type": "code",
      "source": [
        "def classClasific(nn):\n",
        "    voteClass_temp = {}\n",
        "    for i in range(len(nn)):\n",
        "        a = nn[i][-1]\n",
        "        if a in voteClass_temp:\n",
        "            voteClass_temp[a] = i+1\n",
        "        else:\n",
        "            voteClass_temp[a] = 1\n",
        "    voteSort = sorted(voteClass_temp.items(), key=operator.itemgetter(1),reverse=True)\n",
        "    return voteSort [0][0]\n"
      ],
      "execution_count": 0,
      "outputs": []
    },
    {
      "metadata": {
        "id": "ChQUEXzOZJpB",
        "colab_type": "text"
      },
      "cell_type": "markdown",
      "source": [
        "## **Akurasi**"
      ]
    },
    {
      "metadata": {
        "id": "XouwnT5IZITe",
        "colab_type": "code",
        "colab": {}
      },
      "cell_type": "code",
      "source": [
        "def accuracyChecking(data, prediksi):\n",
        "    true = 0\n",
        "    for i in range(len(prediksi)):\n",
        "        if data[i] == prediksi[i]:\n",
        "            true = i + 1\n",
        "    return (true/float(len(data)))*100"
      ],
      "execution_count": 0,
      "outputs": []
    },
    {
      "metadata": {
        "id": "5x8mj855hZpK",
        "colab_type": "text"
      },
      "cell_type": "markdown",
      "source": [
        "## **MAIN**"
      ]
    },
    {
      "metadata": {
        "id": "RzIR48XbhaAW",
        "colab_type": "code",
        "outputId": "2c83c203-6d1f-4c7a-c478-a149b1d6df84",
        "colab": {
          "base_uri": "https://localhost:8080/",
          "height": 34
        }
      },
      "cell_type": "code",
      "source": [
        "#Data Train\n",
        "data_train = datTrain(dataTrain)\n",
        "\n",
        "validationData = [data_train[0][:4000], data_train[1][:4000]]\n",
        "\n",
        "#mencari nilai k\n",
        "K = searchK(validationData)\n",
        "\n",
        "#Data Test\n",
        "data_test = datTest(dataTest)\n",
        "\n",
        "predictionDataTest = [data_test[0][:1000], data_test[1][:1000]]\n",
        "\n",
        "prediction_temp = []\n",
        "\n",
        "for i in range(len(predictionDataTest[0])):\n",
        "    test_data = predictionDataTest[0][i]\n",
        "    NN = knn(validationData, test_data, K)\n",
        "    prediction = classClasific(NN)\n",
        "    prediction_temp.append(prediction)\n",
        "\n",
        "prediction_temp=list(map(int,prediction_temp))\n",
        "attribut= predictionDataTest[0]\n",
        "\n",
        "result_temp = { 'Attr1,Attr2,Attr3,Attr4': attribut , 'Class': prediction_temp}\n",
        "\n",
        "result = pd.DataFrame(result_temp)\n"
      ],
      "execution_count": 0,
      "outputs": [
        {
          "output_type": "stream",
          "text": [
            "K terbaik = 3 Dengan Akurasi = 99.97500000000001 %\n"
          ],
          "name": "stdout"
        }
      ]
    },
    {
      "metadata": {
        "id": "vHAdgUqcTFSZ",
        "colab_type": "text"
      },
      "cell_type": "markdown",
      "source": [
        "##**Data Prediksi**"
      ]
    },
    {
      "metadata": {
        "id": "_ESqnlMqTF3h",
        "colab_type": "code",
        "outputId": "9f8137d8-651c-4186-f139-95d147641bc9",
        "colab": {
          "base_uri": "https://localhost:8080/",
          "height": 1969
        }
      },
      "cell_type": "code",
      "source": [
        "result.head(len(result))"
      ],
      "execution_count": 0,
      "outputs": [
        {
          "output_type": "execute_result",
          "data": {
            "text/html": [
              "<div>\n",
              "<style scoped>\n",
              "    .dataframe tbody tr th:only-of-type {\n",
              "        vertical-align: middle;\n",
              "    }\n",
              "\n",
              "    .dataframe tbody tr th {\n",
              "        vertical-align: top;\n",
              "    }\n",
              "\n",
              "    .dataframe thead th {\n",
              "        text-align: right;\n",
              "    }\n",
              "</style>\n",
              "<table border=\"1\" class=\"dataframe\">\n",
              "  <thead>\n",
              "    <tr style=\"text-align: right;\">\n",
              "      <th></th>\n",
              "      <th>Attr1,Attr2,Attr3,Attr4</th>\n",
              "      <th>Class</th>\n",
              "    </tr>\n",
              "  </thead>\n",
              "  <tbody>\n",
              "    <tr>\n",
              "      <th>0</th>\n",
              "      <td>[8.4, 54.375, 13.6, 13.5]</td>\n",
              "      <td>0</td>\n",
              "    </tr>\n",
              "    <tr>\n",
              "      <th>1</th>\n",
              "      <td>[10.8, 67.5, 14.4, 22.2]</td>\n",
              "      <td>0</td>\n",
              "    </tr>\n",
              "    <tr>\n",
              "      <th>2</th>\n",
              "      <td>[21.6, 62.5, 13.6, 20.7]</td>\n",
              "      <td>0</td>\n",
              "    </tr>\n",
              "    <tr>\n",
              "      <th>3</th>\n",
              "      <td>[10.8, 46.875, 9.0, 16.8]</td>\n",
              "      <td>0</td>\n",
              "    </tr>\n",
              "    <tr>\n",
              "      <th>4</th>\n",
              "      <td>[10.8, 58.75, 14.2, 13.5]</td>\n",
              "      <td>0</td>\n",
              "    </tr>\n",
              "    <tr>\n",
              "      <th>5</th>\n",
              "      <td>[21.6, 61.875, 11.2, 18.3]</td>\n",
              "      <td>0</td>\n",
              "    </tr>\n",
              "    <tr>\n",
              "      <th>6</th>\n",
              "      <td>[6.0, 54.375, 14.2, 18.3]</td>\n",
              "      <td>0</td>\n",
              "    </tr>\n",
              "    <tr>\n",
              "      <th>7</th>\n",
              "      <td>[7.8, 45.0, 10.2, 21.6]</td>\n",
              "      <td>0</td>\n",
              "    </tr>\n",
              "    <tr>\n",
              "      <th>8</th>\n",
              "      <td>[21.0, 42.5, 14.6, 18.3]</td>\n",
              "      <td>0</td>\n",
              "    </tr>\n",
              "    <tr>\n",
              "      <th>9</th>\n",
              "      <td>[6.0, 58.75, 12.8, 21.3]</td>\n",
              "      <td>0</td>\n",
              "    </tr>\n",
              "    <tr>\n",
              "      <th>10</th>\n",
              "      <td>[20.4, 73.125, 10.8, 21.6]</td>\n",
              "      <td>1</td>\n",
              "    </tr>\n",
              "    <tr>\n",
              "      <th>11</th>\n",
              "      <td>[6.6, 67.5, 14.8, 21.0]</td>\n",
              "      <td>1</td>\n",
              "    </tr>\n",
              "    <tr>\n",
              "      <th>12</th>\n",
              "      <td>[10.8, 39.375, 10.6, 23.1]</td>\n",
              "      <td>0</td>\n",
              "    </tr>\n",
              "    <tr>\n",
              "      <th>13</th>\n",
              "      <td>[10.2, 53.125, 12.4, 19.2]</td>\n",
              "      <td>0</td>\n",
              "    </tr>\n",
              "    <tr>\n",
              "      <th>14</th>\n",
              "      <td>[7.2, 54.375, 10.8, 18.6]</td>\n",
              "      <td>0</td>\n",
              "    </tr>\n",
              "    <tr>\n",
              "      <th>15</th>\n",
              "      <td>[21.6, 73.125, 14.8, 21.9]</td>\n",
              "      <td>0</td>\n",
              "    </tr>\n",
              "    <tr>\n",
              "      <th>16</th>\n",
              "      <td>[18.6, 70.625, 8.8, 18.6]</td>\n",
              "      <td>1</td>\n",
              "    </tr>\n",
              "    <tr>\n",
              "      <th>17</th>\n",
              "      <td>[6.6, 45.0, 15.0, 21.0]</td>\n",
              "      <td>0</td>\n",
              "    </tr>\n",
              "    <tr>\n",
              "      <th>18</th>\n",
              "      <td>[10.8, 55.625, 11.6, 19.2]</td>\n",
              "      <td>0</td>\n",
              "    </tr>\n",
              "    <tr>\n",
              "      <th>19</th>\n",
              "      <td>[7.2, 33.75, 14.0, 23.7]</td>\n",
              "      <td>0</td>\n",
              "    </tr>\n",
              "    <tr>\n",
              "      <th>20</th>\n",
              "      <td>[19.2, 49.375, 8.8, 21.0]</td>\n",
              "      <td>1</td>\n",
              "    </tr>\n",
              "    <tr>\n",
              "      <th>21</th>\n",
              "      <td>[19.2, 72.5, 11.6, 21.0]</td>\n",
              "      <td>1</td>\n",
              "    </tr>\n",
              "    <tr>\n",
              "      <th>22</th>\n",
              "      <td>[6.6, 60.625, 13.2, 15.0]</td>\n",
              "      <td>1</td>\n",
              "    </tr>\n",
              "    <tr>\n",
              "      <th>23</th>\n",
              "      <td>[8.4, 55.625, 9.8, 12.6]</td>\n",
              "      <td>0</td>\n",
              "    </tr>\n",
              "    <tr>\n",
              "      <th>24</th>\n",
              "      <td>[12.0, 53.75, 10.2, 20.1]</td>\n",
              "      <td>0</td>\n",
              "    </tr>\n",
              "    <tr>\n",
              "      <th>25</th>\n",
              "      <td>[14.4, 40.0, 13.8, 16.2]</td>\n",
              "      <td>0</td>\n",
              "    </tr>\n",
              "    <tr>\n",
              "      <th>26</th>\n",
              "      <td>[21.6, 80.0, 10.8, 24.0]</td>\n",
              "      <td>0</td>\n",
              "    </tr>\n",
              "    <tr>\n",
              "      <th>27</th>\n",
              "      <td>[21.0, 38.75, 12.4, 21.6]</td>\n",
              "      <td>0</td>\n",
              "    </tr>\n",
              "    <tr>\n",
              "      <th>28</th>\n",
              "      <td>[6.6, 35.625, 11.6, 19.8]</td>\n",
              "      <td>0</td>\n",
              "    </tr>\n",
              "    <tr>\n",
              "      <th>29</th>\n",
              "      <td>[18.0, 80.625, 11.8, 24.0]</td>\n",
              "      <td>1</td>\n",
              "    </tr>\n",
              "    <tr>\n",
              "      <th>...</th>\n",
              "      <td>...</td>\n",
              "      <td>...</td>\n",
              "    </tr>\n",
              "    <tr>\n",
              "      <th>970</th>\n",
              "      <td>[10.2, 33.75, 10.2, 19.5]</td>\n",
              "      <td>0</td>\n",
              "    </tr>\n",
              "    <tr>\n",
              "      <th>971</th>\n",
              "      <td>[22.2, 64.375, 15.6, 19.5]</td>\n",
              "      <td>1</td>\n",
              "    </tr>\n",
              "    <tr>\n",
              "      <th>972</th>\n",
              "      <td>[10.8, 38.125, 13.4, 21.0]</td>\n",
              "      <td>0</td>\n",
              "    </tr>\n",
              "    <tr>\n",
              "      <th>973</th>\n",
              "      <td>[10.2, 60.625, 10.4, 18.0]</td>\n",
              "      <td>0</td>\n",
              "    </tr>\n",
              "    <tr>\n",
              "      <th>974</th>\n",
              "      <td>[6.0, 55.625, 11.8, 23.7]</td>\n",
              "      <td>0</td>\n",
              "    </tr>\n",
              "    <tr>\n",
              "      <th>975</th>\n",
              "      <td>[7.8, 66.25, 9.4, 13.2]</td>\n",
              "      <td>0</td>\n",
              "    </tr>\n",
              "    <tr>\n",
              "      <th>976</th>\n",
              "      <td>[7.2, 63.75, 14.4, 22.5]</td>\n",
              "      <td>0</td>\n",
              "    </tr>\n",
              "    <tr>\n",
              "      <th>977</th>\n",
              "      <td>[22.8, 75.0, 13.2, 21.0]</td>\n",
              "      <td>1</td>\n",
              "    </tr>\n",
              "    <tr>\n",
              "      <th>978</th>\n",
              "      <td>[21.6, 61.25, 13.2, 18.3]</td>\n",
              "      <td>1</td>\n",
              "    </tr>\n",
              "    <tr>\n",
              "      <th>979</th>\n",
              "      <td>[11.4, 55.0, 14.6, 14.4]</td>\n",
              "      <td>0</td>\n",
              "    </tr>\n",
              "    <tr>\n",
              "      <th>980</th>\n",
              "      <td>[8.4, 69.375, 14.4, 15.6]</td>\n",
              "      <td>1</td>\n",
              "    </tr>\n",
              "    <tr>\n",
              "      <th>981</th>\n",
              "      <td>[18.0, 46.875, 14.4, 21.9]</td>\n",
              "      <td>1</td>\n",
              "    </tr>\n",
              "    <tr>\n",
              "      <th>982</th>\n",
              "      <td>[19.2, 42.5, 13.6, 22.8]</td>\n",
              "      <td>0</td>\n",
              "    </tr>\n",
              "    <tr>\n",
              "      <th>983</th>\n",
              "      <td>[6.0, 50.625, 13.0, 19.2]</td>\n",
              "      <td>0</td>\n",
              "    </tr>\n",
              "    <tr>\n",
              "      <th>984</th>\n",
              "      <td>[21.6, 40.0, 9.2, 22.2]</td>\n",
              "      <td>0</td>\n",
              "    </tr>\n",
              "    <tr>\n",
              "      <th>985</th>\n",
              "      <td>[22.2, 53.125, 13.0, 20.1]</td>\n",
              "      <td>1</td>\n",
              "    </tr>\n",
              "    <tr>\n",
              "      <th>986</th>\n",
              "      <td>[11.4, 45.625, 8.8, 12.6]</td>\n",
              "      <td>0</td>\n",
              "    </tr>\n",
              "    <tr>\n",
              "      <th>987</th>\n",
              "      <td>[9.6, 38.125, 15.8, 16.5]</td>\n",
              "      <td>0</td>\n",
              "    </tr>\n",
              "    <tr>\n",
              "      <th>988</th>\n",
              "      <td>[7.8, 41.875, 14.2, 18.0]</td>\n",
              "      <td>0</td>\n",
              "    </tr>\n",
              "    <tr>\n",
              "      <th>989</th>\n",
              "      <td>[6.6, 38.125, 14.8, 16.8]</td>\n",
              "      <td>0</td>\n",
              "    </tr>\n",
              "    <tr>\n",
              "      <th>990</th>\n",
              "      <td>[18.0, 44.375, 9.4, 21.6]</td>\n",
              "      <td>0</td>\n",
              "    </tr>\n",
              "    <tr>\n",
              "      <th>991</th>\n",
              "      <td>[22.8, 49.375, 11.6, 21.6]</td>\n",
              "      <td>1</td>\n",
              "    </tr>\n",
              "    <tr>\n",
              "      <th>992</th>\n",
              "      <td>[23.4, 50.625, 10.4, 19.2]</td>\n",
              "      <td>1</td>\n",
              "    </tr>\n",
              "    <tr>\n",
              "      <th>993</th>\n",
              "      <td>[21.6, 67.5, 8.0, 20.4]</td>\n",
              "      <td>1</td>\n",
              "    </tr>\n",
              "    <tr>\n",
              "      <th>994</th>\n",
              "      <td>[9.6, 46.25, 14.4, 14.1]</td>\n",
              "      <td>0</td>\n",
              "    </tr>\n",
              "    <tr>\n",
              "      <th>995</th>\n",
              "      <td>[19.8, 59.375, 13.6, 21.6]</td>\n",
              "      <td>0</td>\n",
              "    </tr>\n",
              "    <tr>\n",
              "      <th>996</th>\n",
              "      <td>[20.4, 62.5, 11.2, 22.8]</td>\n",
              "      <td>1</td>\n",
              "    </tr>\n",
              "    <tr>\n",
              "      <th>997</th>\n",
              "      <td>[6.0, 38.125, 8.0, 15.6]</td>\n",
              "      <td>0</td>\n",
              "    </tr>\n",
              "    <tr>\n",
              "      <th>998</th>\n",
              "      <td>[20.4, 52.5, 14.8, 22.5]</td>\n",
              "      <td>1</td>\n",
              "    </tr>\n",
              "    <tr>\n",
              "      <th>999</th>\n",
              "      <td>[24.0, 66.25, 16.0, 23.4]</td>\n",
              "      <td>1</td>\n",
              "    </tr>\n",
              "  </tbody>\n",
              "</table>\n",
              "<p>1000 rows × 2 columns</p>\n",
              "</div>"
            ],
            "text/plain": [
              "        Attr1,Attr2,Attr3,Attr4  Class\n",
              "0     [8.4, 54.375, 13.6, 13.5]      0\n",
              "1      [10.8, 67.5, 14.4, 22.2]      0\n",
              "2      [21.6, 62.5, 13.6, 20.7]      0\n",
              "3     [10.8, 46.875, 9.0, 16.8]      0\n",
              "4     [10.8, 58.75, 14.2, 13.5]      0\n",
              "5    [21.6, 61.875, 11.2, 18.3]      0\n",
              "6     [6.0, 54.375, 14.2, 18.3]      0\n",
              "7       [7.8, 45.0, 10.2, 21.6]      0\n",
              "8      [21.0, 42.5, 14.6, 18.3]      0\n",
              "9      [6.0, 58.75, 12.8, 21.3]      0\n",
              "10   [20.4, 73.125, 10.8, 21.6]      1\n",
              "11      [6.6, 67.5, 14.8, 21.0]      1\n",
              "12   [10.8, 39.375, 10.6, 23.1]      0\n",
              "13   [10.2, 53.125, 12.4, 19.2]      0\n",
              "14    [7.2, 54.375, 10.8, 18.6]      0\n",
              "15   [21.6, 73.125, 14.8, 21.9]      0\n",
              "16    [18.6, 70.625, 8.8, 18.6]      1\n",
              "17      [6.6, 45.0, 15.0, 21.0]      0\n",
              "18   [10.8, 55.625, 11.6, 19.2]      0\n",
              "19     [7.2, 33.75, 14.0, 23.7]      0\n",
              "20    [19.2, 49.375, 8.8, 21.0]      1\n",
              "21     [19.2, 72.5, 11.6, 21.0]      1\n",
              "22    [6.6, 60.625, 13.2, 15.0]      1\n",
              "23     [8.4, 55.625, 9.8, 12.6]      0\n",
              "24    [12.0, 53.75, 10.2, 20.1]      0\n",
              "25     [14.4, 40.0, 13.8, 16.2]      0\n",
              "26     [21.6, 80.0, 10.8, 24.0]      0\n",
              "27    [21.0, 38.75, 12.4, 21.6]      0\n",
              "28    [6.6, 35.625, 11.6, 19.8]      0\n",
              "29   [18.0, 80.625, 11.8, 24.0]      1\n",
              "..                          ...    ...\n",
              "970   [10.2, 33.75, 10.2, 19.5]      0\n",
              "971  [22.2, 64.375, 15.6, 19.5]      1\n",
              "972  [10.8, 38.125, 13.4, 21.0]      0\n",
              "973  [10.2, 60.625, 10.4, 18.0]      0\n",
              "974   [6.0, 55.625, 11.8, 23.7]      0\n",
              "975     [7.8, 66.25, 9.4, 13.2]      0\n",
              "976    [7.2, 63.75, 14.4, 22.5]      0\n",
              "977    [22.8, 75.0, 13.2, 21.0]      1\n",
              "978   [21.6, 61.25, 13.2, 18.3]      1\n",
              "979    [11.4, 55.0, 14.6, 14.4]      0\n",
              "980   [8.4, 69.375, 14.4, 15.6]      1\n",
              "981  [18.0, 46.875, 14.4, 21.9]      1\n",
              "982    [19.2, 42.5, 13.6, 22.8]      0\n",
              "983   [6.0, 50.625, 13.0, 19.2]      0\n",
              "984     [21.6, 40.0, 9.2, 22.2]      0\n",
              "985  [22.2, 53.125, 13.0, 20.1]      1\n",
              "986   [11.4, 45.625, 8.8, 12.6]      0\n",
              "987   [9.6, 38.125, 15.8, 16.5]      0\n",
              "988   [7.8, 41.875, 14.2, 18.0]      0\n",
              "989   [6.6, 38.125, 14.8, 16.8]      0\n",
              "990   [18.0, 44.375, 9.4, 21.6]      0\n",
              "991  [22.8, 49.375, 11.6, 21.6]      1\n",
              "992  [23.4, 50.625, 10.4, 19.2]      1\n",
              "993     [21.6, 67.5, 8.0, 20.4]      1\n",
              "994    [9.6, 46.25, 14.4, 14.1]      0\n",
              "995  [19.8, 59.375, 13.6, 21.6]      0\n",
              "996    [20.4, 62.5, 11.2, 22.8]      1\n",
              "997    [6.0, 38.125, 8.0, 15.6]      0\n",
              "998    [20.4, 52.5, 14.8, 22.5]      1\n",
              "999   [24.0, 66.25, 16.0, 23.4]      1\n",
              "\n",
              "[1000 rows x 2 columns]"
            ]
          },
          "metadata": {
            "tags": []
          },
          "execution_count": 12
        }
      ]
    }
  ]
}